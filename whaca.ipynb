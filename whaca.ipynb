{
 "cells": [
  {
   "cell_type": "markdown",
   "metadata": {},
   "source": [
    "# Whaca Demo Notebook\n",
    "## Basic Usage"
   ]
  },
  {
   "cell_type": "code",
   "execution_count": 1,
   "metadata": {},
   "outputs": [],
   "source": [
    "from scripts.whaca import whaca"
   ]
  },
  {
   "cell_type": "code",
   "execution_count": 2,
   "metadata": {},
   "outputs": [],
   "source": [
    "w = whaca(width_thresh=100,time_thresh=0.2,NFFT = 512)"
   ]
  },
  {
   "cell_type": "code",
   "execution_count": 3,
   "metadata": {},
   "outputs": [],
   "source": [
    "# w.open_wav(\"smallneg.wav\")\n",
    "# w.open_url(\"https://sweet.tunes.org/\")\n",
    "w.open_wav(\"smallpos.wav\")"
   ]
  },
  {
   "cell_type": "code",
   "execution_count": 4,
   "metadata": {},
   "outputs": [
    {
     "name": "stdout",
     "output_type": "stream",
     "text": [
      "Wall time: 83 ms\n"
     ]
    }
   ],
   "source": [
    "%%time\n",
    "import numpy as np\n",
    "spec,freq,time = w.gen_spectro(process=False)"
   ]
  },
  {
   "cell_type": "code",
   "execution_count": 5,
   "metadata": {},
   "outputs": [],
   "source": [
    "#spec = w.filter_sounds(spec, time[1] - time[0])"
   ]
  },
  {
   "cell_type": "code",
   "execution_count": 6,
   "metadata": {},
   "outputs": [
    {
     "data": {
      "text/plain": [
       "<Figure size 640x480 with 1 Axes>"
      ]
     },
     "metadata": {},
     "output_type": "display_data"
    }
   ],
   "source": [
    "import matplotlib.pyplot as plt\n",
    "import numpy as np\n",
    "\n",
    "plt.imshow(spec,interpolation=\"nearest\")\n",
    "plt.show()"
   ]
  },
  {
   "cell_type": "markdown",
   "metadata": {},
   "source": [
    "## Demo w/ Widgets"
   ]
  },
  {
   "cell_type": "code",
   "execution_count": 7,
   "metadata": {},
   "outputs": [],
   "source": [
    "from ipywidgets import IntSlider, FloatSlider ,Text, interact, interactive, fixed, interact_manual\n",
    "import ipywidgets as widgets"
   ]
  },
  {
   "cell_type": "code",
   "execution_count": 8,
   "metadata": {},
   "outputs": [],
   "source": [
    "import matplotlib.pyplot as plt\n",
    "import numpy as np\n",
    "\n",
    "def make_spectrogram(db_t, time_t, width_t, NF, file):\n",
    "    # set parameters\n",
    "    w = whaca()\n",
    "    w.open_wav(file)\n",
    "    w.set_threshold_params(db_thresh=db_t, time_thresh=time_t, width_thresh=width_t)\n",
    "    w.set_spectro_params(NFFT = 2 ** NF)\n",
    "    # process\n",
    "    spec,freq,time = w.gen_spectro(process=True)\n",
    "    # detect sounds    \n",
    "    spec = w.filter_sounds(spec, time[1] - time[0])\n",
    "    # return plot\n",
    "    plt.imshow(spec,interpolation=\"nearest\")\n",
    "    plt.colorbar()"
   ]
  },
  {
   "cell_type": "code",
   "execution_count": 10,
   "metadata": {},
   "outputs": [
    {
     "data": {
      "application/vnd.jupyter.widget-view+json": {
       "model_id": "14dd207e48824a338a32ff11278972c1",
       "version_major": 2,
       "version_minor": 0
      },
      "text/plain": [
       "interactive(children=(IntSlider(value=3, description='Call Intensity Threshold', layout=Layout(width='75%'), m…"
      ]
     },
     "metadata": {},
     "output_type": "display_data"
    },
    {
     "data": {
      "text/plain": [
       "<function __main__.make_spectrogram(db_t, time_t, width_t, NF, file)>"
      ]
     },
     "execution_count": 10,
     "metadata": {},
     "output_type": "execute_result"
    }
   ],
   "source": [
    "l = widgets.Layout(width=\"75%\")\n",
    "s = {\"description_width\" : \"initial\"}\n",
    "\n",
    "\n",
    "# this block looks ugly so the output looks pretty\n",
    "interact(make_spectrogram, \n",
    "                db_t=IntSlider(value=3, min=0, max=15, step=1, description=\"Call Intensity Threshold\",layout=l,style=s), \n",
    "                time_t=FloatSlider(value=0.2,min=0,max=1.0,step=0.02,description=\"Call Duration Threshold\",layout=l,style=s), \n",
    "                width_t=IntSlider(value=200,min=0,max=1000,step=50,description=\"Broadband Bandwidth Threshold\",layout=l,style=s), \n",
    "                NF=fixed(9),\n",
    "                file=Text(value=\"smallpos.wav\", placeholder=\"Type here!\", description=\"File to analyze:\",layout=l,style=s))"
   ]
  }
 ],
 "metadata": {
  "kernelspec": {
   "display_name": "Python 3",
   "language": "python",
   "name": "python3"
  },
  "language_info": {
   "codemirror_mode": {
    "name": "ipython",
    "version": 3
   },
   "file_extension": ".py",
   "mimetype": "text/x-python",
   "name": "python",
   "nbconvert_exporter": "python",
   "pygments_lexer": "ipython3",
   "version": "3.6.5"
  }
 },
 "nbformat": 4,
 "nbformat_minor": 2
}
